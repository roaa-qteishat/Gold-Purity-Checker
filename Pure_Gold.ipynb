{
  "nbformat": 4,
  "nbformat_minor": 0,
  "metadata": {
    "colab": {
      "name": "Pure Gold.ipynb",
      "provenance": [],
      "authorship_tag": "ABX9TyP4wwsq5tDeHNNuOW3c3hdZ",
      "include_colab_link": true
    },
    "kernelspec": {
      "name": "python3",
      "display_name": "Python 3"
    },
    "language_info": {
      "name": "python"
    }
  },
  "cells": [
    {
      "cell_type": "markdown",
      "metadata": {
        "id": "view-in-github",
        "colab_type": "text"
      },
      "source": [
        "<a href=\"https://colab.research.google.com/github/roaa-qteishat/Gold-Purity-Checker/blob/main/Pure_Gold.ipynb\" target=\"_parent\"><img src=\"https://colab.research.google.com/assets/colab-badge.svg\" alt=\"Open In Colab\"/></a>"
      ]
    },
    {
      "cell_type": "markdown",
      "source": [
        "You’re making a gold purity checker, that should accept only 22K or 24K gold. Only the good stuff!\n",
        "\n",
        "22K gold has 91.7% or more gold in it, while 24K corresponds to 99.9% and above purity.\n",
        "\n",
        "Given the % of gold purity as input, you should output \"Accepted\" only if it corresponds to 22 or 24K."
      ],
      "metadata": {
        "id": "4_fbo8CRraCf"
      }
    },
    {
      "cell_type": "code",
      "execution_count": 6,
      "metadata": {
        "colab": {
          "base_uri": "https://localhost:8080/"
        },
        "id": "iaXGGNPlrUkX",
        "outputId": "cd702fb0-809c-453b-ac93-fbcdff0c9f5b"
      },
      "outputs": [
        {
          "output_type": "stream",
          "name": "stdout",
          "text": [
            "55\n",
            "NOT \n"
          ]
        }
      ],
      "source": [
        "purity=float(input())\n",
        "if(purity>=91.7):\n",
        " print(\"Accepted\")\n",
        "elif (purity>=99.9):\n",
        " print(\"Accepted\")\n",
        "else:\n",
        "  print(\"NOT Accepted \")\n",
        " "
      ]
    }
  ]
}